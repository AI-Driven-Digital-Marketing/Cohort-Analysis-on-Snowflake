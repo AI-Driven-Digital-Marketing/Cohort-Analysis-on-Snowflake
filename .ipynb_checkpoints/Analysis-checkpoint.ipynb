{
 "cells": [
  {
   "cell_type": "markdown",
   "id": "84340ea3",
   "metadata": {},
   "source": [
    "# Cohort Analysis\n",
    "This notebook includes EDA, cohort analysis calculation.    \n",
    "Snowpark session Documentation : https://docs.snowflake.com/ko/developer-guide/snowpark/reference/python/session.html    \n",
    "Python Documentation: https://docs.snowflake.com/en/developer-guide/snowpark/python/index    "
   ]
  },
  {
   "cell_type": "code",
   "execution_count": null,
   "id": "8e2e3dfb",
   "metadata": {},
   "outputs": [],
   "source": []
  },
  {
   "cell_type": "markdown",
   "id": "3e6f9cc5",
   "metadata": {},
   "source": [
    "#### Connect to Snowflake"
   ]
  },
  {
   "cell_type": "code",
   "execution_count": 21,
   "id": "83d7fc59",
   "metadata": {},
   "outputs": [],
   "source": [
    "# Snowpark for Python\n",
    "from snowflake.snowpark.session import Session\n",
    "from snowflake.snowpark.types import IntegerType, StringType, StructType, FloatType, StructField, DateType, Variant\n",
    "from snowflake.snowpark.functions import udf, sum, col,array_construct,month,year,call_udf,lit,count\n",
    "from snowflake.snowpark.version import VERSION\n",
    "# Misc\n",
    "import json\n",
    "import pandas as pd\n",
    "import logging \n",
    "logger = logging.getLogger(\"snowflake.snowpark.session\")\n",
    "logger.setLevel(logging.ERROR)"
   ]
  },
  {
   "cell_type": "code",
   "execution_count": 2,
   "id": "90f16a0a",
   "metadata": {},
   "outputs": [
    {
     "name": "stdout",
     "output_type": "stream",
     "text": [
      "User                        : ESTPEGION\n",
      "Role                        : ACCOUNTADMIN\n",
      "Database                    : KPMG\n",
      "Schema                      : PUBLIC\n",
      "Warehouse                   : COMPUTE_WH\n",
      "Snowflake version           : 7.6.1\n",
      "Snowpark for Python version : 1.1.0\n"
     ]
    }
   ],
   "source": [
    "# Create Snowflake Session object\n",
    "connection_parameters = json.load(open('connection.json'))\n",
    "session = Session.builder.configs(connection_parameters).create()\n",
    "session.sql_simplifier_enabled = True\n",
    "\n",
    "snowflake_environment = session.sql('select current_user(), current_role(), current_database(), current_schema(), current_version(), current_warehouse()').collect()\n",
    "snowpark_version = VERSION\n",
    "\n",
    "# Current Environment Details\n",
    "print('User                        : {}'.format(snowflake_environment[0][0]))\n",
    "print('Role                        : {}'.format(snowflake_environment[0][1]))\n",
    "print('Database                    : {}'.format(snowflake_environment[0][2]))\n",
    "print('Schema                      : {}'.format(snowflake_environment[0][3]))\n",
    "print('Warehouse                   : {}'.format(snowflake_environment[0][5]))\n",
    "print('Snowflake version           : {}'.format(snowflake_environment[0][4]))\n",
    "print('Snowpark for Python version : {}.{}.{}'.format(snowpark_version[0],snowpark_version[1],snowpark_version[2]))"
   ]
  },
  {
   "cell_type": "markdown",
   "id": "85c22814",
   "metadata": {},
   "source": [
    "#### List all tables in the schema"
   ]
  },
  {
   "cell_type": "code",
   "execution_count": 19,
   "id": "6a2200c7",
   "metadata": {},
   "outputs": [
    {
     "name": "stdout",
     "output_type": "stream",
     "text": [
      "--------------------\n",
      "|\"TABLE_NAME\"      |\n",
      "--------------------\n",
      "|CUSTOMERADDRESS   |\n",
      "|TRANSACTIONS      |\n",
      "|DEMOGRAPHIC       |\n",
      "|NEWCUSTOMER       |\n",
      "|TABLES            |\n",
      "|COLUMNS           |\n",
      "|SCHEMATA          |\n",
      "|SEQUENCES         |\n",
      "|VIEWS             |\n",
      "|TABLE_PRIVILEGES  |\n",
      "--------------------\n",
      "\n"
     ]
    }
   ],
   "source": [
    "session.sql('select TABLE_NAME from information_schema.tables').show()"
   ]
  },
  {
   "cell_type": "markdown",
   "id": "aba122a4",
   "metadata": {},
   "source": [
    "#### Query table from snowflake"
   ]
  },
  {
   "cell_type": "code",
   "execution_count": 20,
   "id": "4253cea3",
   "metadata": {},
   "outputs": [
    {
     "name": "stdout",
     "output_type": "stream",
     "text": [
      "---------------------------------------------------------------------------------------------------------------------------------------------------------------------------------------------------------------------------------------------\n",
      "|\"TRANSACTION_ID\"  |\"PRODUCT_ID\"  |\"CUSTOMER_ID\"  |\"TRANSACTION_DATE\"   |\"ONLINE_ORDER\"  |\"ORDER_STATUS\"  |\"BRAND\"         |\"PRODUCT_LINE\"  |\"PRODUCT_CLASS\"  |\"PRODUCT_SIZE\"  |\"LIST_PRICE\"  |\"STANDARD_COST\"  |\"PRODUCT_FIRST_SOLD_DATE\"  |\n",
      "---------------------------------------------------------------------------------------------------------------------------------------------------------------------------------------------------------------------------------------------\n",
      "|1                 |2             |2950           |2017-02-25 00:00:00  |0.0             |Approved        |Solex           |Standard        |medium           |medium          |71.49         |53.62            |41245.0                    |\n",
      "|2                 |3             |3120           |2017-05-21 00:00:00  |1.0             |Approved        |Trek Bicycles   |Standard        |medium           |large           |2091.47       |388.92           |41701.0                    |\n",
      "|3                 |37            |402            |2017-10-16 00:00:00  |0.0             |Approved        |OHM Cycles      |Standard        |low              |medium          |1793.43       |248.82           |36361.0                    |\n",
      "|4                 |88            |3135           |2017-08-31 00:00:00  |0.0             |Approved        |Norco Bicycles  |Standard        |medium           |medium          |1198.46       |381.1            |36145.0                    |\n",
      "|5                 |78            |787            |2017-10-01 00:00:00  |1.0             |Approved        |Giant Bicycles  |Standard        |medium           |large           |1765.3        |709.48           |42226.0                    |\n",
      "|6                 |25            |2339           |2017-03-08 00:00:00  |1.0             |Approved        |Giant Bicycles  |Road            |medium           |medium          |1538.99       |829.65           |39031.0                    |\n",
      "|7                 |22            |1542           |2017-04-21 00:00:00  |1.0             |Approved        |WeareA2B        |Standard        |medium           |medium          |60.34         |45.26            |34165.0                    |\n",
      "|8                 |15            |2459           |2017-07-15 00:00:00  |0.0             |Approved        |WeareA2B        |Standard        |medium           |medium          |1292.84       |13.44            |39915.0                    |\n",
      "|9                 |67            |1305           |2017-08-10 00:00:00  |0.0             |Approved        |Solex           |Standard        |medium           |large           |1071.23       |380.74           |33455.0                    |\n",
      "|10                |12            |3262           |2017-08-30 00:00:00  |1.0             |Approved        |WeareA2B        |Standard        |medium           |medium          |1231.15       |161.6            |38216.0                    |\n",
      "---------------------------------------------------------------------------------------------------------------------------------------------------------------------------------------------------------------------------------------------\n",
      "\n"
     ]
    }
   ],
   "source": [
    "snow_df_spend = session.table('TRANSACTIONS')\n",
    "snow_df_spend.show()"
   ]
  },
  {
   "cell_type": "code",
   "execution_count": 23,
   "id": "f1380910",
   "metadata": {},
   "outputs": [
    {
     "name": "stdout",
     "output_type": "stream",
     "text": [
      "--------------\n",
      "|\"COUNT(1)\"  |\n",
      "--------------\n",
      "|20000       |\n",
      "--------------\n",
      "\n"
     ]
    }
   ],
   "source": [
    "# validate row number\n",
    "snow_df_spend.select(count('*')).show()"
   ]
  },
  {
   "cell_type": "code",
   "execution_count": null,
   "id": "ac0ad655",
   "metadata": {},
   "outputs": [],
   "source": []
  }
 ],
 "metadata": {
  "kernelspec": {
   "display_name": "snowpark",
   "language": "python",
   "name": "snowpark"
  },
  "language_info": {
   "codemirror_mode": {
    "name": "ipython",
    "version": 3
   },
   "file_extension": ".py",
   "mimetype": "text/x-python",
   "name": "python",
   "nbconvert_exporter": "python",
   "pygments_lexer": "ipython3",
   "version": "3.8.16"
  }
 },
 "nbformat": 4,
 "nbformat_minor": 5
}
